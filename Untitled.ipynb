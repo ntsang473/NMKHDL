{
 "cells": [
  {
   "cell_type": "code",
   "execution_count": 63,
   "id": "4e95399f-1161-4d19-951c-4d9c1a276c0a",
   "metadata": {},
   "outputs": [],
   "source": [
    "import requests\n",
    "from bs4 import BeautifulSoup\n",
    "import pandas as pd\n",
    "import json\n"
   ]
  },
  {
   "cell_type": "code",
   "execution_count": null,
   "id": "2bba3576-d04e-43a4-8fa9-b85b2f09a6cf",
   "metadata": {
    "tags": []
   },
   "outputs": [],
   "source": []
  },
  {
   "cell_type": "code",
   "execution_count": 64,
   "id": "f6d9350a-fe3c-43b8-a1c0-dabccf6f83f4",
   "metadata": {
    "tags": []
   },
   "outputs": [],
   "source": [
    "s='01/01/2017'\n",
    "e='14/12/2023'\n",
    "def date_modify(start,end):\n",
    "    temp=start.split('/')\n",
    "    date=temp[0]\n",
    "    month=temp[1]\n",
    "    year=temp[2]\n",
    "    start=month+'/'+date+'/'+year\n",
    "    temp=end.split('/')\n",
    "    date=temp[0]\n",
    "    month=temp[1]\n",
    "    year=temp[2]\n",
    "    end=month+'/'+date+'/'+year\n",
    "    return start,end\n",
    "        \n",
    "def collect(start,end,stock_code):\n",
    "    Ngay=[]\n",
    "    GiaDieuChinh=[]\n",
    "    GiaDongCua=[]\n",
    "    ThayDoi=[]\n",
    "    KhoiLuongKhopLenh=[]\n",
    "    GiaTriKhopLenh=[]\n",
    "    KLThoaThuan=[]\n",
    "    GtThoaThuan=[]\n",
    "    GiaMoCua=[]\n",
    "    GiaCaoNhat=[]\n",
    "    GiaThapNhat=[]\n",
    "    start,end=date_modify(start,end)\n",
    "    for i in range(1,1000000):\n",
    "        _url='https://s.cafef.vn/Ajax/PageNew/DataHistory/PriceHistory.ashx?Symbol='+stock_code+'&StartDate='+start+'&EndDate='+end+'&PageIndex='+str(i)+'&PageSize=500'\n",
    "        table=requests.get(_url)\n",
    "        dates=json.loads(table.text)\n",
    "        if len(dates['Data']['Data'])==0:\n",
    "            break\n",
    "        for date in dates['Data']['Data']:\n",
    "            Ngay.append(date['Ngay'])\n",
    "            GiaDieuChinh.append(date['GiaDieuChinh'])\n",
    "            GiaDongCua.append(date['GiaDongCua'])\n",
    "            ThayDoi.append(date['ThayDoi'])\n",
    "            KhoiLuongKhopLenh.append(date['KhoiLuongKhopLenh'])\n",
    "            GiaTriKhopLenh.append(date['GiaTriKhopLenh'])\n",
    "            KLThoaThuan.append(date['KLThoaThuan'])\n",
    "            GtThoaThuan.append(date['GtThoaThuan'])\n",
    "            GiaMoCua.append(date['GiaMoCua'])\n",
    "            GiaCaoNhat.append(date['GiaCaoNhat'])\n",
    "            GiaThapNhat.append(date['GiaThapNhat'])\n",
    "\n",
    "    data=pd.DataFrame({'Ngày': Ngay,\n",
    "                      'Giá điều chỉnh': GiaDieuChinh,\n",
    "                      'Giá đóng cửa': GiaDongCua,\n",
    "                      'Thay đổi': ThayDoi,\n",
    "                      'Khối lượng khớp lệnh': KhoiLuongKhopLenh,\n",
    "                      'Giá trị khớp lệnh': GiaTriKhopLenh,\n",
    "                      'KL thoả thuận': KLThoaThuan,\n",
    "                      'GT thoả thuận': GtThoaThuan,\n",
    "                      'Giá mở cửa': GiaMoCua,\n",
    "                      'Giá cao nhất': GiaCaoNhat,\n",
    "                      'Giá thấp nhất': GiaThapNhat}\n",
    "                       )\n",
    "    return data\n",
    "\n",
    "out=collect(s,e,'SSI')"
   ]
  },
  {
   "cell_type": "code",
   "execution_count": 65,
   "id": "640c3097-eb7a-4127-afe2-a21dce43cf3e",
   "metadata": {
    "tags": []
   },
   "outputs": [
    {
     "name": "stdout",
     "output_type": "stream",
     "text": [
      "<class 'pandas.core.frame.DataFrame'>\n",
      "RangeIndex: 1737 entries, 0 to 1736\n",
      "Data columns (total 11 columns):\n",
      " #   Column                Non-Null Count  Dtype  \n",
      "---  ------                --------------  -----  \n",
      " 0   Ngày                  1737 non-null   object \n",
      " 1   Giá điều chỉnh        1737 non-null   float64\n",
      " 2   Giá đóng cửa          1737 non-null   float64\n",
      " 3   Thay đổi              1737 non-null   object \n",
      " 4   Khối lượng khớp lệnh  1737 non-null   int64  \n",
      " 5   Giá trị khớp lệnh     1737 non-null   int64  \n",
      " 6   KL thoả thuận         1737 non-null   int64  \n",
      " 7   GT thoả thuận         1737 non-null   int64  \n",
      " 8   Giá mở cửa            1737 non-null   float64\n",
      " 9   Giá cao nhất          1737 non-null   float64\n",
      " 10  Giá thấp nhất         1737 non-null   float64\n",
      "dtypes: float64(5), int64(4), object(2)\n",
      "memory usage: 149.4+ KB\n"
     ]
    }
   ],
   "source": [
    "out.info()"
   ]
  },
  {
   "cell_type": "code",
   "execution_count": null,
   "id": "1c8ab5a0-a102-4901-9591-8bfa468f0c52",
   "metadata": {},
   "outputs": [],
   "source": []
  }
 ],
 "metadata": {
  "kernelspec": {
   "display_name": "Python 3 (ipykernel)",
   "language": "python",
   "name": "python3"
  },
  "language_info": {
   "codemirror_mode": {
    "name": "ipython",
    "version": 3
   },
   "file_extension": ".py",
   "mimetype": "text/x-python",
   "name": "python",
   "nbconvert_exporter": "python",
   "pygments_lexer": "ipython3",
   "version": "3.11.5"
  }
 },
 "nbformat": 4,
 "nbformat_minor": 5
}
